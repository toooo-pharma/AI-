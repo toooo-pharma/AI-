{
  "nbformat": 4,
  "nbformat_minor": 0,
  "metadata": {
    "colab": {
      "provenance": [],
      "authorship_tag": "ABX9TyM2apxOmrERRPhl67+PvKVO",
      "include_colab_link": true
    },
    "kernelspec": {
      "name": "python3",
      "display_name": "Python 3"
    },
    "language_info": {
      "name": "python"
    }
  },
  "cells": [
    {
      "cell_type": "markdown",
      "metadata": {
        "id": "view-in-github",
        "colab_type": "text"
      },
      "source": [
        "<a href=\"https://colab.research.google.com/github/toooo-pharma/AI-/blob/main/AI%E5%89%B5%E8%96%AC.ipynb\" target=\"_parent\"><img src=\"https://colab.research.google.com/assets/colab-badge.svg\" alt=\"Open In Colab\"/></a>"
      ]
    },
    {
      "cell_type": "code",
      "execution_count": null,
      "metadata": {
        "colab": {
          "base_uri": "https://localhost:8080/"
        },
        "id": "4pPj7wBAU2nF",
        "outputId": "483e6831-ef86-4ea5-bef4-6fd2c4ebfcec"
      },
      "outputs": [
        {
          "output_type": "stream",
          "name": "stdout",
          "text": [
            "7+3 10\n"
          ]
        }
      ],
      "source": [
        "x = 7\n",
        "y = 3\n",
        "print(\"7+3\",x+y)"
      ]
    },
    {
      "cell_type": "code",
      "source": [
        "for i in range(1,6):\n",
        "  print(\"ループ番号:\",i)\n"
      ],
      "metadata": {
        "colab": {
          "base_uri": "https://localhost:8080/"
        },
        "id": "Mt11r1TSVeRX",
        "outputId": "85426da5-2791-4e2c-8e06-90cc101bacf0"
      },
      "execution_count": null,
      "outputs": [
        {
          "output_type": "stream",
          "name": "stdout",
          "text": [
            "ループ番号: 1\n",
            "ループ番号: 2\n",
            "ループ番号: 3\n",
            "ループ番号: 4\n",
            "ループ番号: 5\n"
          ]
        }
      ]
    },
    {
      "cell_type": "markdown",
      "source": [],
      "metadata": {
        "id": "Ke-poUxpcr1D"
      }
    },
    {
      "cell_type": "code",
      "source": [
        "!pip install rdkit -q\n",
        "\n",
        "from rdkit import Chem\n",
        "from rdkit.Chem import Descriptors\n",
        "\n",
        "smiles_aspirin = \"CC(=O)OC1=CC=CC=C1C(=O)O\"\n",
        "mol = Chem.MolFromSmiles(smiles_aspirin)\n",
        "\n",
        "mw  = Descriptors.MolWt(mol)     # ← W が 大文字\n",
        "logp = Descriptors.MolLogP(mol)  # ← MolLogP の L も大文字\n",
        "\n",
        "print(\"アスピリン 分子量:\", mw)\n",
        "print(\"アスピリン LogP :\", logp)\n",
        "\n",
        "import pandas as pd\n",
        "\n",
        "df= pd.read_csv(\"smiles_list.csv\")\n",
        "print(df.head())\n",
        "\n",
        "from rdkit import Chem\n",
        "from rdkit.Chem import Descriptors\n",
        "\n",
        "def smiles_to_descriptors(smiles):\n",
        "    mol = Chem.MolFromSmiles(smiles)\n",
        "    if mol is None:\n",
        "        return pd.Series({\"MolWt\": None, \"LogP\": None})\n",
        "    return pd.Series({\n",
        "        \"MolWt\": Descriptors.MolWt(mol),\n",
        "        \"LogP\": Descriptors.MolLogP(mol)\n",
        "    })\n",
        "\n",
        "df_desc = df.join(df[\"smiles\"].apply(smiles_to_descriptors))\n",
        "print(df_desc)\n",
        "\n",
        "print(df_desc[[\"MolWt\", \"LogP\"]].describe())   # 平均・標準偏差\n",
        "df_desc.plot.scatter(x=\"MolWt\", y=\"LogP\")      # 散布図（関係性ざっくり確認）\n",
        "\n",
        "assert df_desc[\"MolWt\"].notna().all()\n"
      ],
      "metadata": {
        "colab": {
          "base_uri": "https://localhost:8080/",
          "height": 772
        },
        "id": "k3F29WZiWGx2",
        "outputId": "4f270a8b-fe6b-4f3d-f61e-24a0f6b17454"
      },
      "execution_count": null,
      "outputs": [
        {
          "output_type": "stream",
          "name": "stdout",
          "text": [
            "アスピリン 分子量: 180.15899999999996\n",
            "アスピリン LogP : 1.3101\n",
            "                     smiles         name\n",
            "0  CC(=O)OC1=CC=CC=C1C(=O)O      Aspirin\n",
            "1        CC1=CC(=O)NC(=O)N1  Paracetamol\n",
            "2  CC(C)C1=CC=C(C=C1)C(O)=O     Naproxen\n",
            "                     smiles         name    MolWt     LogP\n",
            "0  CC(=O)OC1=CC=CC=C1C(=O)O      Aspirin  180.159  1.31010\n",
            "1        CC1=CC(=O)NC(=O)N1  Paracetamol  126.115 -0.62838\n",
            "2  CC(C)C1=CC=C(C=C1)C(O)=O     Naproxen  164.204  2.50820\n",
            "            MolWt      LogP\n",
            "count    3.000000  3.000000\n",
            "mean   156.826000  1.063307\n",
            "std     27.767151  1.582787\n",
            "min    126.115000 -0.628380\n",
            "25%    145.159500  0.340860\n",
            "50%    164.204000  1.310100\n",
            "75%    172.181500  1.909150\n",
            "max    180.159000  2.508200\n"
          ]
        },
        {
          "output_type": "display_data",
          "data": {
            "text/plain": [
              "<Figure size 640x480 with 1 Axes>"
            ],
            "image/png": "[encoded data removed]"
          },
          "metadata": {}
        }
      ]
    },
    {
      "cell_type": "code",
      "source": [
        "from google.colab import drive\n",
        "drive.mount('/content/drive')"
      ],
      "metadata": {
        "id": "sDrNOUdmZYOg"
      },
      "execution_count": null,
      "outputs": []
    }
  ]
}